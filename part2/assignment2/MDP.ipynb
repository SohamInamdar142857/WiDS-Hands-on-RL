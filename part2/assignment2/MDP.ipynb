{
  "cells": [
    {
      "cell_type": "code",
      "execution_count": 75,
      "metadata": {
        "id": "9jG0QbkuQ675"
      },
      "outputs": [],
      "source": [
        "import numpy as np \n",
        "from numpy import random\n",
        "import pandas as pd\n",
        "import math \n",
        "import matplotlib.pyplot as plt \n",
        "from multiprocessing import Pool"
      ]
    },
    {
      "cell_type": "markdown",
      "metadata": {
        "id": "A9P0LP--fPUE"
      },
      "source": [
        "Here we obtain the data about MDPs given in the text file and process it."
      ]
    },
    {
      "cell_type": "code",
      "execution_count": 76,
      "metadata": {
        "id": "uC3lAMcwRnGU"
      },
      "outputs": [],
      "source": [
        "def file_datatoMDP(file_name):\n",
        "  file_1=open(file_name,\"r+\")\n",
        "  file_1_lines=file_1.readlines()\n",
        "  count=0\n",
        "  n_lines=len(file_1_lines)\n",
        "  lst_filedata=[None]*n_lines\n",
        "  for count in range(n_lines):\n",
        "    lst_filedata[count]=file_1_lines[count].split()\n",
        "  return lst_filedata\n",
        "  "
      ]
    },
    {
      "cell_type": "code",
      "execution_count": 77,
      "metadata": {
        "id": "6oDJ3k8s09h_"
      },
      "outputs": [],
      "source": [
        "class transition:\n",
        "  #This class will store the various parameters for a given transition like initial state, final state, probability and reward.\n",
        "  def __init__(self,tran_data):\n",
        "    self.init_state=int(tran_data[1]) \n",
        "    self.action=int(tran_data[2]) \n",
        "    self.final_state=int(tran_data[3])  \n",
        "    self.reward=float(tran_data[4]) \n",
        "    self.prob=float(tran_data[5])"
      ]
    },
    {
      "cell_type": "code",
      "execution_count": 78,
      "metadata": {
        "id": "dzUpNBL_ewcY"
      },
      "outputs": [],
      "source": [
        "class MDP:\n",
        "  def __init__(self,data_file):\n",
        "    #data_file takes string values(file name/file path)\n",
        "    #Here we store the pre-defined parameters for a given MDP\n",
        "    self.MDP_data=file_datatoMDP(data_file)\n",
        "    self.n_states=int(self.MDP_data[0][1]) #number of states\n",
        "    self.n_actions=int(self.MDP_data[1][1])  #number of actions\n",
        "    self.n_trans=len(self.MDP_data)-3\n",
        "    self.gamma=float(self.MDP_data[len(self.MDP_data)-1][1]) #gamma/discount factor\n",
        "    \n",
        "    self.all_trans=[self.MDP_data[i] for i in range(2,self.n_trans+2)]  \n",
        "    self.transitions=np.empty(self.n_trans,dtype=transition)  #data regarding all possible state transitions\n",
        "    for i in range(self.n_trans):\n",
        "      self.transitions[i]=transition(self.all_trans[i])\n",
        "\n",
        "#Initializing the value function V_n(s)\n",
        "    self.V_curr=np.zeros(self.n_states)\n",
        "    self.optimal_actions=np.zeros(self.n_states)\n",
        "    self.optimal_values=np.zeros(self.n_states)\n",
        "\n",
        "    \n",
        "\n",
        "    "
      ]
    },
    {
      "attachments": {},
      "cell_type": "markdown",
      "metadata": {},
      "source": [
        "Value Iteration"
      ]
    },
    {
      "cell_type": "code",
      "execution_count": 79,
      "metadata": {
        "colab": {
          "base_uri": "https://localhost:8080/"
        },
        "id": "0rN953HO7et-",
        "outputId": "627c38b2-adcf-4f15-f3c2-233ee1b62914"
      },
      "outputs": [
        {
          "name": "stdout",
          "output_type": "stream",
          "text": [
            "[2.23495803 2.37361179 2.60404614 2.64778374 2.5222306  2.37525182\n",
            " 2.68480559 2.68830979 2.64080868 2.5724269 ]\n",
            "[3. 3. 3. 1. 4. 0. 2. 0. 3. 1.]\n",
            "164\n"
          ]
        }
      ],
      "source": [
        "#The main algorithm\n",
        "n_iter=10000 #Maximum number of iterations\n",
        "infile_name=input(\"Enter filename/filepath:\")\n",
        "MDP2_2=MDP(infile_name)\n",
        "max_error=1e-20\n",
        "\n",
        "\n",
        "for t in range(n_iter):\n",
        "  delta=0\n",
        "  #delta=max(|V_t[s]-V_(t+1)[s]|)\n",
        "  V_next=np.zeros(MDP2_2.n_states)\n",
        "  #Value of all states at (t+1)th time-step\n",
        "  for s in range(MDP2_2.n_states):\n",
        "    #The maximum value of the Bellman Optimality Equation\n",
        "    max_bellman_val=0\n",
        "\n",
        "    \n",
        "    \n",
        "    for a in range(MDP2_2.n_actions):\n",
        "      bellman_val=0\n",
        "      for i in range(MDP2_2.n_trans):\n",
        "        if ((MDP2_2.transitions[i].init_state==s) and (MDP2_2.transitions[i].action==a)):\n",
        "          #Computing the value of the Bellman Optimality Equation\n",
        "          bellman_val+=(MDP2_2.transitions[i].prob)*(MDP2_2.transitions[i].reward\n",
        "                          +(MDP2_2.gamma*MDP2_2.V_curr[MDP2_2.transitions[i].final_state]))\n",
        "\n",
        "        else:\n",
        "          bellman_val+=0\n",
        "      max_bellman_val=max(bellman_val,max_bellman_val)\n",
        "\n",
        "      if MDP2_2.V_curr[s]<bellman_val:\n",
        "        MDP2_2.optimal_actions[s]=a\n",
        "    V_next[s]=max_bellman_val\n",
        "\n",
        "\n",
        "    delta=max(delta,abs(MDP2_2.V_curr[s]-V_next[s]))\n",
        "    #Maximum difference between V_t and V_(t+1)\n",
        "\n",
        "  MDP2_2.V_curr=V_next\n",
        "\n",
        "  #Loop breaks when delta goes below a given threshold\n",
        "  if (delta<max_error):\n",
        "    break\n",
        "\n",
        "\n",
        "\n",
        "      \n"
      ]
    },
    {
      "attachments": {},
      "cell_type": "markdown",
      "metadata": {},
      "source": [
        "Producing the Output"
      ]
    },
    {
      "cell_type": "code",
      "execution_count": 80,
      "metadata": {},
      "outputs": [],
      "source": [
        "outfile_name=infile_name[0:len(infile_name)-4]+\"_output.txt\"\n",
        "opfile = open(outfile_name, \"w\")\n",
        "for i in range(MDP2_2.n_states):\n",
        "    opfile.writelines(str(MDP2_2.V_curr[i])+\"     \"+str(MDP2_2.optimal_actions[i])+\"  \\n\")\n",
        "    \n"
      ]
    }
  ],
  "metadata": {
    "colab": {
      "provenance": []
    },
    "kernelspec": {
      "display_name": "Python 3",
      "language": "python",
      "name": "python3"
    },
    "language_info": {
      "codemirror_mode": {
        "name": "ipython",
        "version": 3
      },
      "file_extension": ".py",
      "mimetype": "text/x-python",
      "name": "python",
      "nbconvert_exporter": "python",
      "pygments_lexer": "ipython3",
      "version": "3.10.6 (tags/v3.10.6:9c7b4bd, Aug  1 2022, 21:53:49) [MSC v.1932 64 bit (AMD64)]"
    },
    "vscode": {
      "interpreter": {
        "hash": "26de051ba29f2982a8de78e945f0abaf191376122a1563185a90213a26c5da77"
      }
    }
  },
  "nbformat": 4,
  "nbformat_minor": 0
}
